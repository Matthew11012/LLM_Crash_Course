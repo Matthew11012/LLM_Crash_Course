{
 "cells": [
  {
   "cell_type": "code",
   "execution_count": 1,
   "id": "f948c1e6",
   "metadata": {},
   "outputs": [],
   "source": [
    "from datasets import load_dataset\n",
    "import json\n",
    "from transformers import AutoTokenizer\n",
    "import random "
   ]
  },
  {
   "cell_type": "markdown",
   "id": "05364979",
   "metadata": {},
   "source": [
    "### Load Alpaca Dataset"
   ]
  },
  {
   "cell_type": "code",
   "execution_count": 9,
   "id": "5f4056c2",
   "metadata": {},
   "outputs": [],
   "source": [
    "dataset  = load_dataset(\"yahma/alpaca-cleaned\", split=\"train\")"
   ]
  },
  {
   "cell_type": "code",
   "execution_count": 10,
   "id": "ee77b8da",
   "metadata": {},
   "outputs": [
    {
     "name": "stdout",
     "output_type": "stream",
     "text": [
      "{'output': '1. Eat a balanced and nutritious diet: Make sure your meals are inclusive of a variety of fruits and vegetables, lean protein, whole grains, and healthy fats. This helps to provide your body with the essential nutrients to function at its best and can help prevent chronic diseases.\\n\\n2. Engage in regular physical activity: Exercise is crucial for maintaining strong bones, muscles, and cardiovascular health. Aim for at least 150 minutes of moderate aerobic exercise or 75 minutes of vigorous exercise each week.\\n\\n3. Get enough sleep: Getting enough quality sleep is crucial for physical and mental well-being. It helps to regulate mood, improve cognitive function, and supports healthy growth and immune function. Aim for 7-9 hours of sleep each night.', 'input': '', 'instruction': 'Give three tips for staying healthy.'}\n"
     ]
    }
   ],
   "source": [
    "print(dataset[0])"
   ]
  },
  {
   "cell_type": "code",
   "execution_count": 4,
   "id": "56080530",
   "metadata": {},
   "outputs": [],
   "source": [
    "tokenizer = AutoTokenizer.from_pretrained(\"gpt2\")"
   ]
  },
  {
   "cell_type": "code",
   "execution_count": 7,
   "id": "0aedde8d",
   "metadata": {},
   "outputs": [
    {
     "name": "stdout",
     "output_type": "stream",
     "text": [
      "Saved 987 examples.\n"
     ]
    }
   ],
   "source": [
    "# Clean and format\n",
    "examples = []\n",
    "for ex in dataset[\"train\"].select(range(1000)):\n",
    "    instruction = ex[\"instruction\"]\n",
    "    input_text = ex[\"input\"] or \"\"\n",
    "    output = ex[\"output\"]\n",
    "\n",
    "    # Tokenize to check length\n",
    "    tokens = tokenizer(\n",
    "        instruction + \" \" + input_text + \" \"  + output,\n",
    "        truncation=True,\n",
    "        max_length=512\n",
    "    )\n",
    "\n",
    "    # only keep if within length\n",
    "    if len(tokens[\"input_ids\"]) < 512:\n",
    "        examples.append({\n",
    "            \"instruction\": instruction,\n",
    "            \"input\": input_text,\n",
    "            \"output\": output              \n",
    "        })\n",
    "    \n",
    "# Write JSONL\n",
    "with open(\"dataset.jsonl\", \"w\") as f:\n",
    "    for ex in examples:\n",
    "        f.write(json.dumps(ex) + \"\\n\")\n",
    "\n",
    "print(f\"Saved {len(examples)} examples.\")"
   ]
  }
 ],
 "metadata": {
  "kernelspec": {
   "display_name": "venv",
   "language": "python",
   "name": "python3"
  },
  "language_info": {
   "codemirror_mode": {
    "name": "ipython",
    "version": 3
   },
   "file_extension": ".py",
   "mimetype": "text/x-python",
   "name": "python",
   "nbconvert_exporter": "python",
   "pygments_lexer": "ipython3",
   "version": "3.11.9"
  }
 },
 "nbformat": 4,
 "nbformat_minor": 5
}
